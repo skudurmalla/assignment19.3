{
 "cells": [
  {
   "cell_type": "markdown",
   "metadata": {},
   "source": [
    "Problem Statement 1:\n",
    "Calculate F Test for given 10, 20, 30, 40, 50 and 5,10,15, 20, 25."
   ]
  },
  {
   "cell_type": "markdown",
   "metadata": {},
   "source": [
    "For F test first calculate the variance of first set and the second set \n",
    "\n",
    "Variance of first set \n",
    "For 10,20,30,40,50\n",
    "N=5\n",
    "Mean (xm)= (x1+x1+x2...xn)/N \n",
    "         = 150/5 = 30\n",
    "SD=sqrt(1/(N-1)*((x1-xm)2+(x2-xm)2+..+(xn-xm)2)) \n",
    "  =sqrt(1/(5-1)((10-30)2+(20-30)2+(30-30)2+(40-30)2+(50-30)2)) \n",
    "   =sqrt(1/4((-20)2+(-10)2+(0)2+(10)2+(20)2)) \n",
    "   =sqrt(1/4((400)+(100)+(0)+(100)+(400))) \n",
    "   =sqrt(250) \n",
    "   =15.8114 \n",
    "Variance=SD2 \n",
    "Variance=15.81142 \n",
    "Variance=250 \n",
    "\n",
    "\n",
    "Variance of second set \n",
    "For 5, 10,15,20,25: \n",
    "N=5\n",
    "Mean (xm)= (x1+x2+x3...xN)/N \n",
    "         = 75/5 = 15 \n",
    "SD=sqrt(1/(N-1)*((x1-xm)2+(x2-xm)2+..+(xn-xm)2)) \n",
    "   =sqrt(1/(5-1)((5-15)2+(10-15)2+(15-15)2+(20-15)2+(25-15)2)) \n",
    "   =sqrt(1/4((-10)2+(-5)2+(0)2+(5)2+(10)2)) \n",
    "   =sqrt(1/4((100)+(25)+(0)+(25)+(100))) \n",
    "   =sqrt(62.5) \n",
    "   =7.9057 \n",
    "Variance=SD2 \n",
    "Variance=7.90572 \n",
    "Variance=62.5 \n",
    "\n",
    "F test = 250/62.5 = 4\n"
   ]
  }
 ],
 "metadata": {
  "kernelspec": {
   "display_name": "Python 3",
   "language": "python",
   "name": "python3"
  },
  "language_info": {
   "codemirror_mode": {
    "name": "ipython",
    "version": 3
   },
   "file_extension": ".py",
   "mimetype": "text/x-python",
   "name": "python",
   "nbconvert_exporter": "python",
   "pygments_lexer": "ipython3",
   "version": "3.5.5"
  }
 },
 "nbformat": 4,
 "nbformat_minor": 2
}
